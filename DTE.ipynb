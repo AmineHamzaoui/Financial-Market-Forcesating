{
  "nbformat": 4,
  "nbformat_minor": 0,
  "metadata": {
    "colab": {
      "provenance": [],
      "authorship_tag": "ABX9TyMtiVMZTQYHzfQg9hRZrVX3",
      "include_colab_link": true
    },
    "kernelspec": {
      "name": "python3",
      "display_name": "Python 3"
    },
    "language_info": {
      "name": "python"
    }
  },
  "cells": [
    {
      "cell_type": "markdown",
      "metadata": {
        "id": "view-in-github",
        "colab_type": "text"
      },
      "source": [
        "<a href=\"https://colab.research.google.com/github/AmineHamzaoui/Financial-Market-Forcesating/blob/master/DTE.ipynb\" target=\"_parent\"><img src=\"https://colab.research.google.com/assets/colab-badge.svg\" alt=\"Open In Colab\"/></a>"
      ]
    },
    {
      "cell_type": "code",
      "source": [
        "import numpy as np\n",
        "from sklearn.metrics import mutual_info_score\n",
        "from sklearn.preprocessing import KBinsDiscretizer"
      ],
      "metadata": {
        "id": "82pyQ-0sxHxk"
      },
      "execution_count": null,
      "outputs": []
    },
    {
      "cell_type": "code",
      "execution_count": null,
      "metadata": {
        "id": "3nUUahh0tdPS"
      },
      "outputs": [],
      "source": [
        "import pandas as pd\n",
        "\n",
        "# Load your dataset\n",
        "df = pd.read_csv('/content/Macro_with_stocks.csv', parse_dates=['Date_x'])\n",
        "\n",
        "# Filter for a single stock\n",
        "aapl = df[df['Stock'] == 'AAPL'].copy()\n",
        "aapl.sort_values('Date_x', inplace=True)\n",
        "\n",
        "# Create aligned time series\n",
        "X = aapl['Daily_Return'].values\n",
        "Y = aapl['Interest Rate (Federal Funds)'].values[:len(X)]  # aligned macro variable"
      ]
    },
    {
      "cell_type": "code",
      "source": [
        "import numpy as np\n",
        "from sklearn.preprocessing import KBinsDiscretizer\n",
        "\n",
        "def delay_transfer_entropy(X, Y, delay=1, k=1, n_bins=10):\n",
        "    \"\"\"\n",
        "    Computes Delay Transfer Entropy from Y to X with a given delay.\n",
        "\n",
        "    Parameters:\n",
        "    - X: array-like, target variable (e.g. stock return)\n",
        "    - Y: array-like, source variable (e.g. macroeconomic factor)\n",
        "    - delay: int, time delay from Y to X\n",
        "    - k: int, number of past values (embedding)\n",
        "    - n_bins: int, number of bins for discretization\n",
        "\n",
        "    Returns:\n",
        "    - DTE value (float)\n",
        "    \"\"\"\n",
        "    assert len(X) == len(Y), \"X and Y must have the same length\"\n",
        "    n = len(X)\n",
        "    indices = np.arange(k + delay, n)\n",
        "\n",
        "    # Build past history\n",
        "    X_past = np.stack([X[i - k - delay:i - delay] for i in indices])\n",
        "    Y_past = np.stack([Y[i - k:i] for i in indices])\n",
        "    X_now = X[indices]\n",
        "\n",
        "    # Discretize values\n",
        "    enc = KBinsDiscretizer(n_bins=n_bins, encode='ordinal', strategy='uniform')\n",
        "    X_past_disc = enc.fit_transform(X_past)\n",
        "    Y_past_disc = enc.fit_transform(Y_past)\n",
        "    X_now_disc = enc.fit_transform(X_now.reshape(-1, 1)).flatten()\n",
        "\n",
        "    # Convert to string keys\n",
        "    def to_str(data):\n",
        "        return ['_'.join(map(str, row.astype(int))) for row in data]\n",
        "\n",
        "    x_past = to_str(X_past_disc)\n",
        "    y_past = to_str(Y_past_disc)\n",
        "    xy_past = [f\"{xp}|{yp}\" for xp, yp in zip(x_past, y_past)]\n",
        "    x_now = X_now_disc.astype(int).astype(str)\n",
        "\n",
        "    # Compute DTE = H(X_now | X_past) - H(X_now | X_past, Y_past)\n",
        "    H_x_given_xpast = conditional_entropy(x_now, x_past)\n",
        "    H_x_given_xy = conditional_entropy(x_now, xy_past)\n",
        "\n",
        "    return H_x_given_xpast - H_x_given_xy\n",
        "\n",
        "def conditional_entropy(x, cond):\n",
        "    \"\"\"\n",
        "    Compute conditional entropy H(X | Y) = H(X,Y) - H(Y)\n",
        "    \"\"\"\n",
        "    joint = [f\"{xi}|{yi}\" for xi, yi in zip(x, cond)]\n",
        "    return entropy(joint) - entropy(cond)\n",
        "\n",
        "def entropy(data):\n",
        "    \"\"\"\n",
        "    Compute Shannon entropy from a list of symbols.\n",
        "    \"\"\"\n",
        "    _, counts = np.unique(data, return_counts=True)\n",
        "    probs = counts / counts.sum()\n",
        "    return -np.sum(probs * np.log2(probs + 1e-9))\n"
      ],
      "metadata": {
        "id": "daTGwlB5xEeF"
      },
      "execution_count": null,
      "outputs": []
    },
    {
      "cell_type": "code",
      "source": [
        "# Simulate influence: Y causes X with delay\n",
        "np.random.seed(0)\n",
        "n = 1000\n",
        "Y = np.random.randn(n)\n",
        "X = np.roll(Y, 3) + 0.1 * np.random.randn(n)\n",
        "\n",
        "# Run DTE analysis\n",
        "dte_val = delay_transfer_entropy(X, Y, delay=3, k=1, n_bins=5)\n",
        "print(f\"Delay Transfer Entropy from Y → X: {dte_val:.4f}\")"
      ],
      "metadata": {
        "colab": {
          "base_uri": "https://localhost:8080/"
        },
        "id": "kAnhRwhPxdQB",
        "outputId": "4d702ce1-02bf-4f55-b73a-e28a97187ca5"
      },
      "execution_count": null,
      "outputs": [
        {
          "output_type": "stream",
          "name": "stdout",
          "text": [
            "Delay Transfer Entropy from Y → X: 0.0504\n"
          ]
        }
      ]
    }
  ]
}